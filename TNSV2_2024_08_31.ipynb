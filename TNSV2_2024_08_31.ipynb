{
  "nbformat": 4,
  "nbformat_minor": 0,
  "metadata": {
    "colab": {
      "provenance": [],
      "collapsed_sections": [
        "nS0n1LbGTV27"
      ],
      "authorship_tag": "ABX9TyNBzopWpyNTLD3Zm4awcynn",
      "include_colab_link": true
    },
    "kernelspec": {
      "name": "python3",
      "display_name": "Python 3"
    },
    "language_info": {
      "name": "python"
    }
  },
  "cells": [
    {
      "cell_type": "markdown",
      "metadata": {
        "id": "view-in-github",
        "colab_type": "text"
      },
      "source": [
        "<a href=\"https://colab.research.google.com/github/PaiSuryaDarshan/ML_Prerequisites_TNSV2/blob/main/TNSV2_2024_08_31.ipynb\" target=\"_parent\"><img src=\"https://colab.research.google.com/assets/colab-badge.svg\" alt=\"Open In Colab\"/></a>"
      ]
    },
    {
      "cell_type": "code",
      "execution_count": 16,
      "metadata": {
        "id": "T9VFchI3CVgW"
      },
      "outputs": [],
      "source": [
        "import numpy as np"
      ]
    },
    {
      "cell_type": "code",
      "source": [
        "l = [1,2,3]"
      ],
      "metadata": {
        "id": "xH4tLB4cCry1"
      },
      "execution_count": 17,
      "outputs": []
    },
    {
      "cell_type": "code",
      "source": [
        "A = np.array(l)"
      ],
      "metadata": {
        "id": "-F1FpAgpCwCg"
      },
      "execution_count": 18,
      "outputs": []
    },
    {
      "cell_type": "code",
      "source": [
        "for i in l:\n",
        "    print(i)"
      ],
      "metadata": {
        "colab": {
          "base_uri": "https://localhost:8080/"
        },
        "id": "YdDXTxasC6OB",
        "outputId": "7e1c2a33-4fc6-41e0-8c74-815a79ce303b"
      },
      "execution_count": 19,
      "outputs": [
        {
          "output_type": "stream",
          "name": "stdout",
          "text": [
            "1\n",
            "2\n",
            "3\n"
          ]
        }
      ]
    },
    {
      "cell_type": "code",
      "source": [
        "for i in A:\n",
        "    print(i)"
      ],
      "metadata": {
        "colab": {
          "base_uri": "https://localhost:8080/"
        },
        "id": "ZudzeS46C8PC",
        "outputId": "bc62029d-3e8c-406e-f505-290e8f40e0de"
      },
      "execution_count": 20,
      "outputs": [
        {
          "output_type": "stream",
          "name": "stdout",
          "text": [
            "1\n",
            "2\n",
            "3\n"
          ]
        }
      ]
    },
    {
      "cell_type": "code",
      "source": [
        "l.append(4)"
      ],
      "metadata": {
        "id": "iFhPlfUNC__v"
      },
      "execution_count": 21,
      "outputs": []
    },
    {
      "cell_type": "code",
      "source": [
        "l"
      ],
      "metadata": {
        "colab": {
          "base_uri": "https://localhost:8080/"
        },
        "id": "qYV6jAlkDGEn",
        "outputId": "c9e8f256-2849-4f34-a70d-bf32faaf1d67"
      },
      "execution_count": 22,
      "outputs": [
        {
          "output_type": "execute_result",
          "data": {
            "text/plain": [
              "[1, 2, 3, 4]"
            ]
          },
          "metadata": {},
          "execution_count": 22
        }
      ]
    },
    {
      "cell_type": "code",
      "source": [
        "A.append(4)\n",
        "\n",
        "# Arrays have fixed size"
      ],
      "metadata": {
        "colab": {
          "base_uri": "https://localhost:8080/",
          "height": 176
        },
        "id": "NVMafGJfDG74",
        "outputId": "f0a964e3-5cda-4c21-89ea-9f641f60579b"
      },
      "execution_count": 23,
      "outputs": [
        {
          "output_type": "error",
          "ename": "AttributeError",
          "evalue": "'numpy.ndarray' object has no attribute 'append'",
          "traceback": [
            "\u001b[0;31m---------------------------------------------------------------------------\u001b[0m",
            "\u001b[0;31mAttributeError\u001b[0m                            Traceback (most recent call last)",
            "\u001b[0;32m<ipython-input-23-c267607ec4ff>\u001b[0m in \u001b[0;36m<cell line: 1>\u001b[0;34m()\u001b[0m\n\u001b[0;32m----> 1\u001b[0;31m \u001b[0mA\u001b[0m\u001b[0;34m.\u001b[0m\u001b[0mappend\u001b[0m\u001b[0;34m(\u001b[0m\u001b[0;36m4\u001b[0m\u001b[0;34m)\u001b[0m\u001b[0;34m\u001b[0m\u001b[0;34m\u001b[0m\u001b[0m\n\u001b[0m\u001b[1;32m      2\u001b[0m \u001b[0;34m\u001b[0m\u001b[0m\n\u001b[1;32m      3\u001b[0m \u001b[0;31m# Arrays have fixed size\u001b[0m\u001b[0;34m\u001b[0m\u001b[0;34m\u001b[0m\u001b[0m\n",
            "\u001b[0;31mAttributeError\u001b[0m: 'numpy.ndarray' object has no attribute 'append'"
          ]
        }
      ]
    },
    {
      "cell_type": "code",
      "source": [
        "l += [5]\n",
        "l"
      ],
      "metadata": {
        "colab": {
          "base_uri": "https://localhost:8080/"
        },
        "id": "sH1SDd88DIJX",
        "outputId": "fd566f21-ecac-41a5-f6c6-ce0310b3ac30"
      },
      "execution_count": 24,
      "outputs": [
        {
          "output_type": "execute_result",
          "data": {
            "text/plain": [
              "[1, 2, 3, 4, 5]"
            ]
          },
          "metadata": {},
          "execution_count": 24
        }
      ]
    },
    {
      "cell_type": "code",
      "source": [
        "# This is called broadcasting in numpy, illegal mathematical operation,\n",
        "# BUT numpy creats a list with the same input which matches the original list\n",
        "\n",
        "A += np.array([4])\n",
        "A"
      ],
      "metadata": {
        "colab": {
          "base_uri": "https://localhost:8080/"
        },
        "id": "WdszlM4-DWaC",
        "outputId": "f9aafb37-440c-4e04-aea9-e8ab55ec80e7"
      },
      "execution_count": 25,
      "outputs": [
        {
          "output_type": "execute_result",
          "data": {
            "text/plain": [
              "array([5, 6, 7])"
            ]
          },
          "metadata": {},
          "execution_count": 25
        }
      ]
    },
    {
      "cell_type": "code",
      "source": [
        "A += np.array([6,5,4])\n",
        "A"
      ],
      "metadata": {
        "colab": {
          "base_uri": "https://localhost:8080/"
        },
        "id": "6zYU25oMDuC7",
        "outputId": "daca5ca4-fe22-4c2b-f304-fd32f54bcde8"
      },
      "execution_count": 26,
      "outputs": [
        {
          "output_type": "execute_result",
          "data": {
            "text/plain": [
              "array([11, 11, 11])"
            ]
          },
          "metadata": {},
          "execution_count": 26
        }
      ]
    },
    {
      "cell_type": "markdown",
      "source": [
        "How Arrays make arithemetics simpler"
      ],
      "metadata": {
        "id": "spn1JNHzPJP3"
      }
    },
    {
      "cell_type": "code",
      "source": [
        "LIST = [2,4,5]\n",
        "A = np.array(LIST)"
      ],
      "metadata": {
        "id": "s_yGm8w-EGEP"
      },
      "execution_count": 32,
      "outputs": []
    },
    {
      "cell_type": "code",
      "source": [
        "# To square a list (element wise)\n",
        "\n",
        "New_LIST = []\n",
        "for i in LIST:\n",
        "    New_LIST.append(i**2)\n",
        "\n",
        "New_LIST"
      ],
      "metadata": {
        "colab": {
          "base_uri": "https://localhost:8080/"
        },
        "id": "_2I2mkDsOmdi",
        "outputId": "d8ec3ff2-74a4-4ddf-efbd-8ab0d7dec629"
      },
      "execution_count": 33,
      "outputs": [
        {
          "output_type": "execute_result",
          "data": {
            "text/plain": [
              "[4, 16, 25]"
            ]
          },
          "metadata": {},
          "execution_count": 33
        }
      ]
    },
    {
      "cell_type": "code",
      "source": [
        "# To square an array (element-wise)\n",
        "\n",
        "A**2"
      ],
      "metadata": {
        "colab": {
          "base_uri": "https://localhost:8080/"
        },
        "id": "AO_RiKl1O0OQ",
        "outputId": "8eb999a9-dd09-466a-c8c5-33d00bbf3433"
      },
      "execution_count": 34,
      "outputs": [
        {
          "output_type": "execute_result",
          "data": {
            "text/plain": [
              "array([ 4, 16, 25])"
            ]
          },
          "metadata": {},
          "execution_count": 34
        }
      ]
    },
    {
      "cell_type": "code",
      "source": [
        "np.sqrt(A)"
      ],
      "metadata": {
        "colab": {
          "base_uri": "https://localhost:8080/"
        },
        "id": "1bHT5fUtPFS7",
        "outputId": "b7be934b-6967-49a6-aa97-53194893fbfb"
      },
      "execution_count": 35,
      "outputs": [
        {
          "output_type": "execute_result",
          "data": {
            "text/plain": [
              "array([1.41421356, 2.        , 2.23606798])"
            ]
          },
          "metadata": {},
          "execution_count": 35
        }
      ]
    },
    {
      "cell_type": "code",
      "source": [
        "np.log(A)"
      ],
      "metadata": {
        "colab": {
          "base_uri": "https://localhost:8080/"
        },
        "id": "4vAIJlOfPZpp",
        "outputId": "a8d210fc-10cb-4b58-eedd-0d817bde5f4b"
      },
      "execution_count": 36,
      "outputs": [
        {
          "output_type": "execute_result",
          "data": {
            "text/plain": [
              "array([0.69314718, 1.38629436, 1.60943791])"
            ]
          },
          "metadata": {},
          "execution_count": 36
        }
      ]
    },
    {
      "cell_type": "code",
      "source": [],
      "metadata": {
        "id": "mwrqDp4HPbY1"
      },
      "execution_count": null,
      "outputs": []
    },
    {
      "cell_type": "markdown",
      "source": [
        "# Dot Product"
      ],
      "metadata": {
        "id": "5l8wuv8pPud5"
      }
    },
    {
      "cell_type": "code",
      "source": [
        "# let's make two template arrays\n",
        "\n",
        "a = np.array([1,2])\n",
        "b = np.array([3,4])"
      ],
      "metadata": {
        "id": "8wn9dPfVPw3g"
      },
      "execution_count": 43,
      "outputs": []
    },
    {
      "cell_type": "markdown",
      "source": [
        "## Alternate work arounds"
      ],
      "metadata": {
        "id": "nS0n1LbGTV27"
      }
    },
    {
      "cell_type": "code",
      "source": [
        "# going by definition\n",
        "dot = 0\n",
        "for e,f in zip(a,b):\n",
        "    dot += e*f\n",
        "\n",
        "dot # (1*3) + (2*4)"
      ],
      "metadata": {
        "colab": {
          "base_uri": "https://localhost:8080/"
        },
        "id": "Px6TklrQP8zW",
        "outputId": "c841f984-c790-4516-e60f-92320662c186"
      },
      "execution_count": 44,
      "outputs": [
        {
          "output_type": "execute_result",
          "data": {
            "text/plain": [
              "11"
            ]
          },
          "metadata": {},
          "execution_count": 44
        }
      ]
    },
    {
      "cell_type": "code",
      "source": [
        "dot = 0\n",
        "for i in range(len(a)):\n",
        "    dot += a[i]*b[i]\n",
        "\n",
        "dot"
      ],
      "metadata": {
        "colab": {
          "base_uri": "https://localhost:8080/"
        },
        "id": "FDNXKrLJQJpF",
        "outputId": "8c618767-4d67-4b27-a30b-f8f898def4a9"
      },
      "execution_count": 45,
      "outputs": [
        {
          "output_type": "execute_result",
          "data": {
            "text/plain": [
              "11"
            ]
          },
          "metadata": {},
          "execution_count": 45
        }
      ]
    },
    {
      "cell_type": "code",
      "source": [
        "# alternate method using np\n",
        "\n",
        "dot = (a*b)\n",
        "sum_of_dot = dot.sum()\n",
        "sum_of_dot"
      ],
      "metadata": {
        "colab": {
          "base_uri": "https://localhost:8080/"
        },
        "id": "m0BVUhCpRD-9",
        "outputId": "f9a80e2e-990d-4a89-92e3-c13ec666c785"
      },
      "execution_count": 49,
      "outputs": [
        {
          "output_type": "execute_result",
          "data": {
            "text/plain": [
              "11"
            ]
          },
          "metadata": {},
          "execution_count": 49
        }
      ]
    },
    {
      "cell_type": "code",
      "source": [
        "# or another alternate\n",
        "\n",
        "np.sum(a*b)"
      ],
      "metadata": {
        "colab": {
          "base_uri": "https://localhost:8080/"
        },
        "id": "I-lnAdtFRlIN",
        "outputId": "f0c79a6a-8038-403c-a039-eb3f68f0dbdf"
      },
      "execution_count": 51,
      "outputs": [
        {
          "output_type": "execute_result",
          "data": {
            "text/plain": [
              "11"
            ]
          },
          "metadata": {},
          "execution_count": 51
        }
      ]
    },
    {
      "cell_type": "markdown",
      "source": [
        "## Real way(s) to do it"
      ],
      "metadata": {
        "id": "QP7agkuVTOxS"
      }
    },
    {
      "cell_type": "code",
      "source": [
        "# HOWEVER, THIS IS THE REAL WAY TO DO IT\n",
        "\n",
        "np.dot(a,b)"
      ],
      "metadata": {
        "colab": {
          "base_uri": "https://localhost:8080/"
        },
        "id": "3Dtu1s8sR3no",
        "outputId": "ee756b20-7510-438f-fc62-dd92eb989443"
      },
      "execution_count": 54,
      "outputs": [
        {
          "output_type": "execute_result",
          "data": {
            "text/plain": [
              "11"
            ]
          },
          "metadata": {},
          "execution_count": 54
        }
      ]
    },
    {
      "cell_type": "code",
      "source": [
        "# Since dot is also an instance function\n",
        "a.dot(b)"
      ],
      "metadata": {
        "colab": {
          "base_uri": "https://localhost:8080/"
        },
        "id": "-cuhpQfwS5nH",
        "outputId": "e9ee511e-6218-47e4-f00f-07b108954d70"
      },
      "execution_count": 55,
      "outputs": [
        {
          "output_type": "execute_result",
          "data": {
            "text/plain": [
              "11"
            ]
          },
          "metadata": {},
          "execution_count": 55
        }
      ]
    },
    {
      "cell_type": "code",
      "source": [
        "# Later numpy version uses @ symbol to describe np.dot\n",
        "a@b"
      ],
      "metadata": {
        "colab": {
          "base_uri": "https://localhost:8080/"
        },
        "id": "nH2TCv-kTEpQ",
        "outputId": "3561235b-d5b8-4ff7-d18c-22542fd289de"
      },
      "execution_count": 56,
      "outputs": [
        {
          "output_type": "execute_result",
          "data": {
            "text/plain": [
              "11"
            ]
          },
          "metadata": {},
          "execution_count": 56
        }
      ]
    },
    {
      "cell_type": "code",
      "source": [],
      "metadata": {
        "id": "qPSdM1T9TMwi"
      },
      "execution_count": null,
      "outputs": []
    },
    {
      "cell_type": "markdown",
      "source": [
        "## Dot product (alternative DEFINITION)\n",
        "from linear Algebra"
      ],
      "metadata": {
        "id": "PuWNrffvTcDe"
      }
    },
    {
      "cell_type": "markdown",
      "source": [
        "It provides us the ability to find Angle between 2 vectors from Cosine..."
      ],
      "metadata": {
        "id": "8JxEiIdjVQDQ"
      }
    },
    {
      "cell_type": "markdown",
      "source": [
        "## Finding Magnitude"
      ],
      "metadata": {
        "id": "rtvJEIXBVBsp"
      }
    },
    {
      "cell_type": "code",
      "source": [
        "# Alt workaround\n",
        "\n",
        "a_mag = np.sqrt((a*a).sum())\n",
        "a_mag"
      ],
      "metadata": {
        "colab": {
          "base_uri": "https://localhost:8080/"
        },
        "id": "RQbHuqk-TY2A",
        "outputId": "8ffaa670-fc82-4d5d-e40f-145b4a465973"
      },
      "execution_count": 58,
      "outputs": [
        {
          "output_type": "execute_result",
          "data": {
            "text/plain": [
              "2.23606797749979"
            ]
          },
          "metadata": {},
          "execution_count": 58
        }
      ]
    },
    {
      "cell_type": "code",
      "source": [
        "# Real Method\n",
        "# use module 'linalg\" within numpy.\n",
        "# Provides several tools to carry out linear applications on arrays\n",
        "\n",
        "a_mag = np.linalg.norm(a)\n",
        "b_mag = np.linalg.norm(b)\n",
        "\n",
        "a_mag, b_mag"
      ],
      "metadata": {
        "colab": {
          "base_uri": "https://localhost:8080/"
        },
        "id": "ZnOzYdLyV80P",
        "outputId": "9c33e1b3-7e6c-4cee-ca20-2037bd2de515"
      },
      "execution_count": 64,
      "outputs": [
        {
          "output_type": "execute_result",
          "data": {
            "text/plain": [
              "(2.23606797749979, 5.0)"
            ]
          },
          "metadata": {},
          "execution_count": 64
        }
      ]
    },
    {
      "cell_type": "code",
      "source": [
        "cosangle = a.dot(b)/ (a_mag * b_mag)\n",
        "cosangle"
      ],
      "metadata": {
        "colab": {
          "base_uri": "https://localhost:8080/"
        },
        "id": "29KZtSdUWe_Q",
        "outputId": "9774f418-682f-45fc-d61d-025cf8daa8a5"
      },
      "execution_count": 67,
      "outputs": [
        {
          "output_type": "execute_result",
          "data": {
            "text/plain": [
              "0.9838699100999074"
            ]
          },
          "metadata": {},
          "execution_count": 67
        }
      ]
    },
    {
      "cell_type": "code",
      "source": [
        "angle = np.arccos(cosangle)\n",
        "angle # OUTPUTS in radians NOT degrees"
      ],
      "metadata": {
        "colab": {
          "base_uri": "https://localhost:8080/"
        },
        "id": "CYEvB1OkW0-v",
        "outputId": "42f6d915-e5fe-4a84-d8d0-ba32da5e30ac"
      },
      "execution_count": 68,
      "outputs": [
        {
          "output_type": "execute_result",
          "data": {
            "text/plain": [
              "0.17985349979247847"
            ]
          },
          "metadata": {},
          "execution_count": 68
        }
      ]
    },
    {
      "cell_type": "code",
      "source": [
        "# to convert angle to degrees\n",
        "angle_degrees = np.degrees(angle)\n",
        "angle_degrees"
      ],
      "metadata": {
        "colab": {
          "base_uri": "https://localhost:8080/"
        },
        "id": "q1T_lUeWXOWy",
        "outputId": "65aea21f-310e-48a0-81fe-613c0ce67f81"
      },
      "execution_count": 70,
      "outputs": [
        {
          "output_type": "execute_result",
          "data": {
            "text/plain": [
              "10.304846468766044"
            ]
          },
          "metadata": {},
          "execution_count": 70
        }
      ]
    },
    {
      "cell_type": "code",
      "source": [],
      "metadata": {
        "id": "7Sn_ikiFYCLE"
      },
      "execution_count": null,
      "outputs": []
    }
  ]
}